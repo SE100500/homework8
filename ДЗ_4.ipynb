{
  "nbformat": 4,
  "nbformat_minor": 0,
  "metadata": {
    "colab": {
      "provenance": [],
      "toc_visible": true
    },
    "kernelspec": {
      "name": "python3",
      "display_name": "Python 3"
    },
    "language_info": {
      "name": "python"
    }
  },
  "cells": [
    {
      "cell_type": "code",
      "execution_count": 32,
      "metadata": {
        "id": "rH3_Xubm_Qqt"
      },
      "outputs": [],
      "source": [
        "import numpy as np\n",
        "A = np.matrix([[1, 2, 1],\n",
        "            [-2, 1, 1]])\n",
        "B = np.matrix([[3, 1],\n",
        "              [-1, 0],\n",
        "              [2, 4]])\n",
        "C = np.matrix([[-2, 2],\n",
        "              [1, -1],\n",
        "              [1, 2]])"
      ]
    },
    {
      "cell_type": "code",
      "source": [
        "#транспонирование матрицы\n",
        "A = A.transpose ()\n",
        "A"
      ],
      "metadata": {
        "colab": {
          "base_uri": "https://localhost:8080/"
        },
        "id": "dTbP8RhPCVyO",
        "outputId": "63c4cb4c-ae9d-45e6-82f5-23562f6e0ed2"
      },
      "execution_count": 39,
      "outputs": [
        {
          "output_type": "execute_result",
          "data": {
            "text/plain": [
              "matrix([[ 1, -2],\n",
              "        [ 2,  1],\n",
              "        [ 1,  1]])"
            ]
          },
          "metadata": {},
          "execution_count": 39
        }
      ]
    },
    {
      "cell_type": "code",
      "source": [
        "#задача №1\n",
        "A+2*B"
      ],
      "metadata": {
        "colab": {
          "base_uri": "https://localhost:8080/"
        },
        "id": "ZR9bj0azEqFq",
        "outputId": "9eb3323e-89a9-488c-bd46-034f4f8b956c"
      },
      "execution_count": 42,
      "outputs": [
        {
          "output_type": "execute_result",
          "data": {
            "text/plain": [
              "matrix([[7, 0],\n",
              "        [0, 1],\n",
              "        [5, 9]])"
            ]
          },
          "metadata": {},
          "execution_count": 42
        }
      ]
    },
    {
      "cell_type": "code",
      "source": [
        "B+2*C"
      ],
      "metadata": {
        "colab": {
          "base_uri": "https://localhost:8080/"
        },
        "id": "PAR1qELwJFKW",
        "outputId": "66677e3a-e3ee-433f-e2c1-37a46aea5e99"
      },
      "execution_count": 43,
      "outputs": [
        {
          "output_type": "execute_result",
          "data": {
            "text/plain": [
              "matrix([[-1,  5],\n",
              "        [ 1, -2],\n",
              "        [ 4,  8]])"
            ]
          },
          "metadata": {},
          "execution_count": 43
        }
      ]
    },
    {
      "cell_type": "code",
      "source": [
        "#задача№2\n",
        "#создание массива из нулей размеров 8х8\n",
        "zeros_arr = np.zeros((8,8))\n",
        "print (zeros_arr)"
      ],
      "metadata": {
        "colab": {
          "base_uri": "https://localhost:8080/"
        },
        "id": "f3Z1G0G4KKNf",
        "outputId": "ee9417b6-ffb7-4f30-e44c-09072bea05e2"
      },
      "execution_count": 65,
      "outputs": [
        {
          "output_type": "stream",
          "name": "stdout",
          "text": [
            "[[0. 0. 0. 0. 0. 0. 0. 0.]\n",
            " [0. 0. 0. 0. 0. 0. 0. 0.]\n",
            " [0. 0. 0. 0. 0. 0. 0. 0.]\n",
            " [0. 0. 0. 0. 0. 0. 0. 0.]\n",
            " [0. 0. 0. 0. 0. 0. 0. 0.]\n",
            " [0. 0. 0. 0. 0. 0. 0. 0.]\n",
            " [0. 0. 0. 0. 0. 0. 0. 0.]\n",
            " [0. 0. 0. 0. 0. 0. 0. 0.]]\n"
          ]
        }
      ]
    },
    {
      "cell_type": "code",
      "source": [
        "#заполнение матрицы значениями в шахматном порядке\n",
        "zeros_arr[1::2,::2] = 1\n",
        "zeros_arr[::2,1::2] = 1\n",
        "print(zeros_arr)"
      ],
      "metadata": {
        "colab": {
          "base_uri": "https://localhost:8080/"
        },
        "id": "iWzKrTO8LcZV",
        "outputId": "1f3830f6-cef0-46e6-e9a2-b305521e95ab"
      },
      "execution_count": 69,
      "outputs": [
        {
          "output_type": "stream",
          "name": "stdout",
          "text": [
            "[[0. 1. 0. 1. 0. 1. 0. 1.]\n",
            " [1. 0. 1. 0. 1. 0. 1. 0.]\n",
            " [0. 1. 0. 1. 0. 1. 0. 1.]\n",
            " [1. 0. 1. 0. 1. 0. 1. 0.]\n",
            " [0. 1. 0. 1. 0. 1. 0. 1.]\n",
            " [1. 0. 1. 0. 1. 0. 1. 0.]\n",
            " [0. 1. 0. 1. 0. 1. 0. 1.]\n",
            " [1. 0. 1. 0. 1. 0. 1. 0.]]\n"
          ]
        }
      ]
    },
    {
      "cell_type": "code",
      "source": [
        "#задача №3\n",
        "V1 = np.arange(start=0, stop=1.41, step=0.1)\n",
        "V1.shape =15\n",
        "V1\n"
      ],
      "metadata": {
        "colab": {
          "base_uri": "https://localhost:8080/"
        },
        "id": "OvoG_hRQMUjT",
        "outputId": "d1cf74ec-15b9-4e3c-b4a3-406940dcb0ed"
      },
      "execution_count": 109,
      "outputs": [
        {
          "output_type": "execute_result",
          "data": {
            "text/plain": [
              "array([0. , 0.1, 0.2, 0.3, 0.4, 0.5, 0.6, 0.7, 0.8, 0.9, 1. , 1.1, 1.2,\n",
              "       1.3, 1.4])"
            ]
          },
          "metadata": {},
          "execution_count": 109
        }
      ]
    },
    {
      "cell_type": "code",
      "source": [
        "V2 = np.arange(start=0, stop=6)\n",
        "V2.shape =6\n",
        "V2\n"
      ],
      "metadata": {
        "colab": {
          "base_uri": "https://localhost:8080/"
        },
        "id": "F3Lqdv6PaMxj",
        "outputId": "44e29f45-535e-41b4-e305-a27055d30b4a"
      },
      "execution_count": 110,
      "outputs": [
        {
          "output_type": "execute_result",
          "data": {
            "text/plain": [
              "array([0, 1, 2, 3, 4, 5])"
            ]
          },
          "metadata": {},
          "execution_count": 110
        }
      ]
    },
    {
      "cell_type": "code",
      "source": [
        "#задача №4\n",
        "V1 = np.arange(start=0, stop=36)\n",
        "list(filter(lambda x: int(x) % 2, V1))\n"
      ],
      "metadata": {
        "colab": {
          "base_uri": "https://localhost:8080/"
        },
        "id": "fPdmOAP1acM4",
        "outputId": "47642b44-a08e-42bd-d10f-16ddf05a0d4d"
      },
      "execution_count": 152,
      "outputs": [
        {
          "output_type": "execute_result",
          "data": {
            "text/plain": [
              "[1, 3, 5, 7, 9, 11, 13, 15, 17, 19, 21, 23, 25, 27, 29, 31, 33, 35]"
            ]
          },
          "metadata": {},
          "execution_count": 152
        }
      ]
    },
    {
      "cell_type": "code",
      "source": [
        "V=V1[::3]\n",
        "V"
      ],
      "metadata": {
        "colab": {
          "base_uri": "https://localhost:8080/"
        },
        "id": "Os6PzDkLj4OG",
        "outputId": "e0fb1190-02b2-473a-a9e4-0fb942eadab9"
      },
      "execution_count": 153,
      "outputs": [
        {
          "output_type": "execute_result",
          "data": {
            "text/plain": [
              "array([ 0,  3,  6,  9, 12, 15, 18, 21, 24, 27, 30, 33])"
            ]
          },
          "metadata": {},
          "execution_count": 153
        }
      ]
    }
  ]
}